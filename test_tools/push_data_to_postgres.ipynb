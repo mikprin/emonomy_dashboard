{
 "cells": [
  {
   "cell_type": "code",
   "execution_count": 1,
   "metadata": {},
   "outputs": [],
   "source": [
    "# Imports\n",
    "import pandas as pd\n",
    "# from sqlalchemy import create_engine\n",
    "# import sqlalchemy\n",
    "import os,sys\n",
    "from pathlib import Path"
   ]
  },
  {
   "cell_type": "code",
   "execution_count": 2,
   "metadata": {},
   "outputs": [],
   "source": [
    "# Settings\n",
    "path_to_data = \"../example_data/example_csv\""
   ]
  },
  {
   "cell_type": "code",
   "execution_count": null,
   "metadata": {},
   "outputs": [],
   "source": []
  },
  {
   "cell_type": "code",
   "execution_count": 3,
   "metadata": {},
   "outputs": [
    {
     "name": "stdout",
     "output_type": "stream",
     "text": [
      "Adding: emotions_metrics.csv to emotions_metrics\n",
      "Adding: emotions_data.csv to emotions_data\n",
      "Adding: statement_irt_result.csv to statement_irt_result\n",
      "Dir dynamics_dominants\n",
      "Adding: Wild & Fork 39s (1).csv to Wild & Fork 39s (1)\n",
      "Adding: Kavak.csv to Kavak\n",
      "Adding: Coppel Moda.csv to Coppel Moda\n",
      "Adding: Coppel Seleccion.csv to Coppel Seleccion\n",
      "Dir dynamics\n",
      "Adding: Wild & Fork 39s (1).csv to Wild & Fork 39s (1)\n",
      "Adding: Kavak.csv to Kavak\n",
      "Adding: Coppel Moda.csv to Coppel Moda\n",
      "Adding: Coppel Seleccion.csv to Coppel Seleccion\n"
     ]
    }
   ],
   "source": [
    "# All magic here!\n",
    "\n",
    "# Create result dict\n",
    "pandases = {}\n",
    "# Don't forget to add check for the shema name occupied\n",
    "pandases[\"database_schema\"] = pd.DataFrame()\n",
    "\n",
    "database_schema_dict = {}\n",
    "\n",
    "def get_dataframes_from_csv_folder(pandases_dict , path_to_data , parent_folder = None):\n",
    "    '''Recurcively read all dataframes to one dict'''\n",
    "    for file in os.listdir(path_to_data):\n",
    "        full_path = os.path.join( path_to_data, file)\n",
    "        if os.path.isfile(full_path):\n",
    "            # Do stuff with files\n",
    "            filename_no_extention = file.split('.')[0]\n",
    "            \n",
    "            if parent_folder:\n",
    "                database_schema_dict[\"parent_folder\"] = parent_folder\n",
    "                database_schema_dict[\"table_name\"] = f\"{parent_folder}_{filename_no_extention}\"\n",
    "                dataframe_key = f\"{parent_folder}_{filename_no_extention}\"\n",
    "            else:\n",
    "                database_schema_dict[\"parent_folder\"] = \"\"\n",
    "                database_schema_dict[\"table_name\"] = filename_no_extention\n",
    "                dataframe_key = filename_no_extention\n",
    "            print(f\"Adding: {file} to {filename_no_extention}\")\n",
    "            dataframe = pd.read_csv( full_path , index_col=0 )\n",
    "            pandases_dict[dataframe_key] = dataframe\n",
    "            database_schema_dict[\"colomns\"] = list(dataframe.columns)\n",
    "            # Create schema colomn and push data about this table there.\n",
    "            series = pd.Series(database_schema_dict)\n",
    "            pandases[\"database_schema\"][database_schema_dict[\"table_name\"]] = series\n",
    "            \n",
    "        elif ( os.path.isdir ( full_path ) ):\n",
    "            # Do stuff with dirs\n",
    "            print(f\"Dir {file}\")\n",
    "            get_dataframes_from_csv_folder(pandases_dict , full_path , parent_folder = file )\n",
    "    return pandases_dict\n",
    "\n",
    "pandases = get_dataframes_from_csv_folder(pandases.copy() , path_to_data)"
   ]
  },
  {
   "cell_type": "code",
   "execution_count": 4,
   "metadata": {},
   "outputs": [
    {
     "data": {
      "text/html": [
       "<div>\n",
       "<style scoped>\n",
       "    .dataframe tbody tr th:only-of-type {\n",
       "        vertical-align: middle;\n",
       "    }\n",
       "\n",
       "    .dataframe tbody tr th {\n",
       "        vertical-align: top;\n",
       "    }\n",
       "\n",
       "    .dataframe thead th {\n",
       "        text-align: right;\n",
       "    }\n",
       "</style>\n",
       "<table border=\"1\" class=\"dataframe\">\n",
       "  <thead>\n",
       "    <tr style=\"text-align: right;\">\n",
       "      <th></th>\n",
       "      <th>emotions_metrics</th>\n",
       "      <th>emotions_data</th>\n",
       "      <th>statement_irt_result</th>\n",
       "      <th>dynamics_dominants_Wild &amp; Fork 39s (1)</th>\n",
       "      <th>dynamics_dominants_Kavak</th>\n",
       "      <th>dynamics_dominants_Coppel Moda</th>\n",
       "      <th>dynamics_dominants_Coppel Seleccion</th>\n",
       "      <th>dynamics_Wild &amp; Fork 39s (1)</th>\n",
       "      <th>dynamics_Kavak</th>\n",
       "      <th>dynamics_Coppel Moda</th>\n",
       "      <th>dynamics_Coppel Seleccion</th>\n",
       "    </tr>\n",
       "  </thead>\n",
       "  <tbody>\n",
       "    <tr>\n",
       "      <th>parent_folder</th>\n",
       "      <td></td>\n",
       "      <td></td>\n",
       "      <td></td>\n",
       "      <td>dynamics_dominants</td>\n",
       "      <td>dynamics_dominants</td>\n",
       "      <td>dynamics_dominants</td>\n",
       "      <td>dynamics_dominants</td>\n",
       "      <td>dynamics</td>\n",
       "      <td>dynamics</td>\n",
       "      <td>dynamics</td>\n",
       "      <td>dynamics</td>\n",
       "    </tr>\n",
       "    <tr>\n",
       "      <th>table_name</th>\n",
       "      <td>emotions_metrics</td>\n",
       "      <td>emotions_data</td>\n",
       "      <td>statement_irt_result</td>\n",
       "      <td>dynamics_dominants_Wild &amp; Fork 39s (1)</td>\n",
       "      <td>dynamics_dominants_Kavak</td>\n",
       "      <td>dynamics_dominants_Coppel Moda</td>\n",
       "      <td>dynamics_dominants_Coppel Seleccion</td>\n",
       "      <td>dynamics_Wild &amp; Fork 39s (1)</td>\n",
       "      <td>dynamics_Kavak</td>\n",
       "      <td>dynamics_Coppel Moda</td>\n",
       "      <td>dynamics_Coppel Seleccion</td>\n",
       "    </tr>\n",
       "    <tr>\n",
       "      <th>colomns</th>\n",
       "      <td>[stimulus, metrics, value]</td>\n",
       "      <td>[Video, Status, Timestamp, CALM, CONFUSED, FEA...</td>\n",
       "      <td>[stimulus, message, weight, Coppel Moda.mp4, C...</td>\n",
       "      <td>[Timestamp, CALM, ANGRY, CONFUSED, SAD, SURPRI...</td>\n",
       "      <td>[Timestamp, CALM, ANGRY, CONFUSED, SAD, SURPRI...</td>\n",
       "      <td>[Timestamp, CALM, ANGRY, CONFUSED, SAD, SURPRI...</td>\n",
       "      <td>[Timestamp, CALM, ANGRY, CONFUSED, SAD, SURPRI...</td>\n",
       "      <td>[Timestamp, ANGRY, CONFUSED, SAD, SURPRISED, D...</td>\n",
       "      <td>[Timestamp, ANGRY, CONFUSED, SAD, SURPRISED, D...</td>\n",
       "      <td>[Timestamp, ANGRY, CONFUSED, SAD, SURPRISED, D...</td>\n",
       "      <td>[Timestamp, ANGRY, CONFUSED, SAD, SURPRISED, D...</td>\n",
       "    </tr>\n",
       "  </tbody>\n",
       "</table>\n",
       "</div>"
      ],
      "text/plain": [
       "                         emotions_metrics  \\\n",
       "parent_folder                               \n",
       "table_name               emotions_metrics   \n",
       "colomns        [stimulus, metrics, value]   \n",
       "\n",
       "                                                   emotions_data  \\\n",
       "parent_folder                                                      \n",
       "table_name                                         emotions_data   \n",
       "colomns        [Video, Status, Timestamp, CALM, CONFUSED, FEA...   \n",
       "\n",
       "                                            statement_irt_result  \\\n",
       "parent_folder                                                      \n",
       "table_name                                  statement_irt_result   \n",
       "colomns        [stimulus, message, weight, Coppel Moda.mp4, C...   \n",
       "\n",
       "                          dynamics_dominants_Wild & Fork 39s (1)  \\\n",
       "parent_folder                                 dynamics_dominants   \n",
       "table_name                dynamics_dominants_Wild & Fork 39s (1)   \n",
       "colomns        [Timestamp, CALM, ANGRY, CONFUSED, SAD, SURPRI...   \n",
       "\n",
       "                                        dynamics_dominants_Kavak  \\\n",
       "parent_folder                                 dynamics_dominants   \n",
       "table_name                              dynamics_dominants_Kavak   \n",
       "colomns        [Timestamp, CALM, ANGRY, CONFUSED, SAD, SURPRI...   \n",
       "\n",
       "                                  dynamics_dominants_Coppel Moda  \\\n",
       "parent_folder                                 dynamics_dominants   \n",
       "table_name                        dynamics_dominants_Coppel Moda   \n",
       "colomns        [Timestamp, CALM, ANGRY, CONFUSED, SAD, SURPRI...   \n",
       "\n",
       "                             dynamics_dominants_Coppel Seleccion  \\\n",
       "parent_folder                                 dynamics_dominants   \n",
       "table_name                   dynamics_dominants_Coppel Seleccion   \n",
       "colomns        [Timestamp, CALM, ANGRY, CONFUSED, SAD, SURPRI...   \n",
       "\n",
       "                                    dynamics_Wild & Fork 39s (1)  \\\n",
       "parent_folder                                           dynamics   \n",
       "table_name                          dynamics_Wild & Fork 39s (1)   \n",
       "colomns        [Timestamp, ANGRY, CONFUSED, SAD, SURPRISED, D...   \n",
       "\n",
       "                                                  dynamics_Kavak  \\\n",
       "parent_folder                                           dynamics   \n",
       "table_name                                        dynamics_Kavak   \n",
       "colomns        [Timestamp, ANGRY, CONFUSED, SAD, SURPRISED, D...   \n",
       "\n",
       "                                            dynamics_Coppel Moda  \\\n",
       "parent_folder                                           dynamics   \n",
       "table_name                                  dynamics_Coppel Moda   \n",
       "colomns        [Timestamp, ANGRY, CONFUSED, SAD, SURPRISED, D...   \n",
       "\n",
       "                                       dynamics_Coppel Seleccion  \n",
       "parent_folder                                           dynamics  \n",
       "table_name                             dynamics_Coppel Seleccion  \n",
       "colomns        [Timestamp, ANGRY, CONFUSED, SAD, SURPRISED, D...  "
      ]
     },
     "execution_count": 4,
     "metadata": {},
     "output_type": "execute_result"
    }
   ],
   "source": [
    "pandases[\"database_schema\"]"
   ]
  },
  {
   "cell_type": "code",
   "execution_count": 5,
   "metadata": {},
   "outputs": [
    {
     "data": {
      "text/plain": [
       "{'parent_folder': 'dynamics',\n",
       " 'table_name': 'dynamics_Coppel Seleccion',\n",
       " 'colomns': ['Timestamp',\n",
       "  'ANGRY',\n",
       "  'CONFUSED',\n",
       "  'SAD',\n",
       "  'SURPRISED',\n",
       "  'DISGUSTED',\n",
       "  'FEAR',\n",
       "  'HAPPY',\n",
       "  'ENGAGEMENT']}"
      ]
     },
     "execution_count": 5,
     "metadata": {},
     "output_type": "execute_result"
    }
   ],
   "source": [
    "# Temp dict to save as row of one database data\n",
    "database_schema_dict"
   ]
  },
  {
   "cell_type": "code",
   "execution_count": 5,
   "metadata": {},
   "outputs": [
    {
     "data": {
      "text/plain": [
       "dict_keys(['database_schema'])"
      ]
     },
     "execution_count": 5,
     "metadata": {},
     "output_type": "execute_result"
    }
   ],
   "source": [
    "pandases.keys()"
   ]
  },
  {
   "cell_type": "code",
   "execution_count": 6,
   "metadata": {},
   "outputs": [
    {
     "ename": "KeyError",
     "evalue": "'statement_irt_result'",
     "output_type": "error",
     "traceback": [
      "\u001b[0;31m---------------------------------------------------------------------------\u001b[0m",
      "\u001b[0;31mKeyError\u001b[0m                                  Traceback (most recent call last)",
      "Cell \u001b[0;32mIn [6], line 1\u001b[0m\n\u001b[0;32m----> 1\u001b[0m pandases[\u001b[39m'\u001b[39;49m\u001b[39mstatement_irt_result\u001b[39;49m\u001b[39m'\u001b[39;49m]\n",
      "\u001b[0;31mKeyError\u001b[0m: 'statement_irt_result'"
     ]
    }
   ],
   "source": [
    "pandases['statement_irt_result']"
   ]
  },
  {
   "cell_type": "code",
   "execution_count": 9,
   "metadata": {},
   "outputs": [
    {
     "name": "stdout",
     "output_type": "stream",
     "text": [
      "bkup\t\t    Dockerfile\t     README.md\t       test_data_source_api\n",
      "data\t\t    example_data     requirements.txt  test_tools\n",
      "deploy.sh\t    grafana-storage  shell_scripts\n",
      "docker-compose.yml  grafana-volume   streamlit_app\n"
     ]
    }
   ],
   "source": [
    "!ls .."
   ]
  },
  {
   "cell_type": "code",
   "execution_count": 10,
   "metadata": {},
   "outputs": [
    {
     "ename": "FileNotFoundError",
     "evalue": "[Errno 2] No such file or directory: '../example_data/csv/statement_irt_result.csv'",
     "output_type": "error",
     "traceback": [
      "\u001b[0;31m---------------------------------------------------------------------------\u001b[0m",
      "\u001b[0;31mFileNotFoundError\u001b[0m                         Traceback (most recent call last)",
      "\u001b[0;32m/tmp/ipykernel_70956/2492354280.py\u001b[0m in \u001b[0;36m<module>\u001b[0;34m\u001b[0m\n\u001b[0;32m----> 1\u001b[0;31m \u001b[0mtemp_df\u001b[0m \u001b[0;34m=\u001b[0m \u001b[0mpd\u001b[0m\u001b[0;34m.\u001b[0m\u001b[0mread_csv\u001b[0m\u001b[0;34m(\u001b[0m\u001b[0;34m\"../example_data/csv/statement_irt_result.csv\"\u001b[0m\u001b[0;34m,\u001b[0m \u001b[0mindex_col\u001b[0m\u001b[0;34m=\u001b[0m\u001b[0;36m0\u001b[0m\u001b[0;34m)\u001b[0m\u001b[0;34m\u001b[0m\u001b[0;34m\u001b[0m\u001b[0m\n\u001b[0m\u001b[1;32m      2\u001b[0m \u001b[0mtemp_df\u001b[0m\u001b[0;34m\u001b[0m\u001b[0;34m\u001b[0m\u001b[0m\n",
      "\u001b[0;32m~/.local/lib/python3.10/site-packages/pandas/util/_decorators.py\u001b[0m in \u001b[0;36mwrapper\u001b[0;34m(*args, **kwargs)\u001b[0m\n\u001b[1;32m    309\u001b[0m                     \u001b[0mstacklevel\u001b[0m\u001b[0;34m=\u001b[0m\u001b[0mstacklevel\u001b[0m\u001b[0;34m,\u001b[0m\u001b[0;34m\u001b[0m\u001b[0;34m\u001b[0m\u001b[0m\n\u001b[1;32m    310\u001b[0m                 )\n\u001b[0;32m--> 311\u001b[0;31m             \u001b[0;32mreturn\u001b[0m \u001b[0mfunc\u001b[0m\u001b[0;34m(\u001b[0m\u001b[0;34m*\u001b[0m\u001b[0margs\u001b[0m\u001b[0;34m,\u001b[0m \u001b[0;34m**\u001b[0m\u001b[0mkwargs\u001b[0m\u001b[0;34m)\u001b[0m\u001b[0;34m\u001b[0m\u001b[0;34m\u001b[0m\u001b[0m\n\u001b[0m\u001b[1;32m    312\u001b[0m \u001b[0;34m\u001b[0m\u001b[0m\n\u001b[1;32m    313\u001b[0m         \u001b[0;32mreturn\u001b[0m \u001b[0mwrapper\u001b[0m\u001b[0;34m\u001b[0m\u001b[0;34m\u001b[0m\u001b[0m\n",
      "\u001b[0;32m~/.local/lib/python3.10/site-packages/pandas/io/parsers/readers.py\u001b[0m in \u001b[0;36mread_csv\u001b[0;34m(filepath_or_buffer, sep, delimiter, header, names, index_col, usecols, squeeze, prefix, mangle_dupe_cols, dtype, engine, converters, true_values, false_values, skipinitialspace, skiprows, skipfooter, nrows, na_values, keep_default_na, na_filter, verbose, skip_blank_lines, parse_dates, infer_datetime_format, keep_date_col, date_parser, dayfirst, cache_dates, iterator, chunksize, compression, thousands, decimal, lineterminator, quotechar, quoting, doublequote, escapechar, comment, encoding, encoding_errors, dialect, error_bad_lines, warn_bad_lines, on_bad_lines, delim_whitespace, low_memory, memory_map, float_precision, storage_options)\u001b[0m\n\u001b[1;32m    678\u001b[0m     \u001b[0mkwds\u001b[0m\u001b[0;34m.\u001b[0m\u001b[0mupdate\u001b[0m\u001b[0;34m(\u001b[0m\u001b[0mkwds_defaults\u001b[0m\u001b[0;34m)\u001b[0m\u001b[0;34m\u001b[0m\u001b[0;34m\u001b[0m\u001b[0m\n\u001b[1;32m    679\u001b[0m \u001b[0;34m\u001b[0m\u001b[0m\n\u001b[0;32m--> 680\u001b[0;31m     \u001b[0;32mreturn\u001b[0m \u001b[0m_read\u001b[0m\u001b[0;34m(\u001b[0m\u001b[0mfilepath_or_buffer\u001b[0m\u001b[0;34m,\u001b[0m \u001b[0mkwds\u001b[0m\u001b[0;34m)\u001b[0m\u001b[0;34m\u001b[0m\u001b[0;34m\u001b[0m\u001b[0m\n\u001b[0m\u001b[1;32m    681\u001b[0m \u001b[0;34m\u001b[0m\u001b[0m\n\u001b[1;32m    682\u001b[0m \u001b[0;34m\u001b[0m\u001b[0m\n",
      "\u001b[0;32m~/.local/lib/python3.10/site-packages/pandas/io/parsers/readers.py\u001b[0m in \u001b[0;36m_read\u001b[0;34m(filepath_or_buffer, kwds)\u001b[0m\n\u001b[1;32m    573\u001b[0m \u001b[0;34m\u001b[0m\u001b[0m\n\u001b[1;32m    574\u001b[0m     \u001b[0;31m# Create the parser.\u001b[0m\u001b[0;34m\u001b[0m\u001b[0;34m\u001b[0m\u001b[0m\n\u001b[0;32m--> 575\u001b[0;31m     \u001b[0mparser\u001b[0m \u001b[0;34m=\u001b[0m \u001b[0mTextFileReader\u001b[0m\u001b[0;34m(\u001b[0m\u001b[0mfilepath_or_buffer\u001b[0m\u001b[0;34m,\u001b[0m \u001b[0;34m**\u001b[0m\u001b[0mkwds\u001b[0m\u001b[0;34m)\u001b[0m\u001b[0;34m\u001b[0m\u001b[0;34m\u001b[0m\u001b[0m\n\u001b[0m\u001b[1;32m    576\u001b[0m \u001b[0;34m\u001b[0m\u001b[0m\n\u001b[1;32m    577\u001b[0m     \u001b[0;32mif\u001b[0m \u001b[0mchunksize\u001b[0m \u001b[0;32mor\u001b[0m \u001b[0miterator\u001b[0m\u001b[0;34m:\u001b[0m\u001b[0;34m\u001b[0m\u001b[0;34m\u001b[0m\u001b[0m\n",
      "\u001b[0;32m~/.local/lib/python3.10/site-packages/pandas/io/parsers/readers.py\u001b[0m in \u001b[0;36m__init__\u001b[0;34m(self, f, engine, **kwds)\u001b[0m\n\u001b[1;32m    931\u001b[0m \u001b[0;34m\u001b[0m\u001b[0m\n\u001b[1;32m    932\u001b[0m         \u001b[0mself\u001b[0m\u001b[0;34m.\u001b[0m\u001b[0mhandles\u001b[0m\u001b[0;34m:\u001b[0m \u001b[0mIOHandles\u001b[0m \u001b[0;34m|\u001b[0m \u001b[0;32mNone\u001b[0m \u001b[0;34m=\u001b[0m \u001b[0;32mNone\u001b[0m\u001b[0;34m\u001b[0m\u001b[0;34m\u001b[0m\u001b[0m\n\u001b[0;32m--> 933\u001b[0;31m         \u001b[0mself\u001b[0m\u001b[0;34m.\u001b[0m\u001b[0m_engine\u001b[0m \u001b[0;34m=\u001b[0m \u001b[0mself\u001b[0m\u001b[0;34m.\u001b[0m\u001b[0m_make_engine\u001b[0m\u001b[0;34m(\u001b[0m\u001b[0mf\u001b[0m\u001b[0;34m,\u001b[0m \u001b[0mself\u001b[0m\u001b[0;34m.\u001b[0m\u001b[0mengine\u001b[0m\u001b[0;34m)\u001b[0m\u001b[0;34m\u001b[0m\u001b[0;34m\u001b[0m\u001b[0m\n\u001b[0m\u001b[1;32m    934\u001b[0m \u001b[0;34m\u001b[0m\u001b[0m\n\u001b[1;32m    935\u001b[0m     \u001b[0;32mdef\u001b[0m \u001b[0mclose\u001b[0m\u001b[0;34m(\u001b[0m\u001b[0mself\u001b[0m\u001b[0;34m)\u001b[0m\u001b[0;34m:\u001b[0m\u001b[0;34m\u001b[0m\u001b[0;34m\u001b[0m\u001b[0m\n",
      "\u001b[0;32m~/.local/lib/python3.10/site-packages/pandas/io/parsers/readers.py\u001b[0m in \u001b[0;36m_make_engine\u001b[0;34m(self, f, engine)\u001b[0m\n\u001b[1;32m   1215\u001b[0m             \u001b[0;31m# \"Union[str, PathLike[str], ReadCsvBuffer[bytes], ReadCsvBuffer[str]]\"\u001b[0m\u001b[0;34m\u001b[0m\u001b[0;34m\u001b[0m\u001b[0m\n\u001b[1;32m   1216\u001b[0m             \u001b[0;31m# , \"str\", \"bool\", \"Any\", \"Any\", \"Any\", \"Any\", \"Any\"\u001b[0m\u001b[0;34m\u001b[0m\u001b[0;34m\u001b[0m\u001b[0m\n\u001b[0;32m-> 1217\u001b[0;31m             self.handles = get_handle(  # type: ignore[call-overload]\n\u001b[0m\u001b[1;32m   1218\u001b[0m                 \u001b[0mf\u001b[0m\u001b[0;34m,\u001b[0m\u001b[0;34m\u001b[0m\u001b[0;34m\u001b[0m\u001b[0m\n\u001b[1;32m   1219\u001b[0m                 \u001b[0mmode\u001b[0m\u001b[0;34m,\u001b[0m\u001b[0;34m\u001b[0m\u001b[0;34m\u001b[0m\u001b[0m\n",
      "\u001b[0;32m~/.local/lib/python3.10/site-packages/pandas/io/common.py\u001b[0m in \u001b[0;36mget_handle\u001b[0;34m(path_or_buf, mode, encoding, compression, memory_map, is_text, errors, storage_options)\u001b[0m\n\u001b[1;32m    787\u001b[0m         \u001b[0;32mif\u001b[0m \u001b[0mioargs\u001b[0m\u001b[0;34m.\u001b[0m\u001b[0mencoding\u001b[0m \u001b[0;32mand\u001b[0m \u001b[0;34m\"b\"\u001b[0m \u001b[0;32mnot\u001b[0m \u001b[0;32min\u001b[0m \u001b[0mioargs\u001b[0m\u001b[0;34m.\u001b[0m\u001b[0mmode\u001b[0m\u001b[0;34m:\u001b[0m\u001b[0;34m\u001b[0m\u001b[0;34m\u001b[0m\u001b[0m\n\u001b[1;32m    788\u001b[0m             \u001b[0;31m# Encoding\u001b[0m\u001b[0;34m\u001b[0m\u001b[0;34m\u001b[0m\u001b[0m\n\u001b[0;32m--> 789\u001b[0;31m             handle = open(\n\u001b[0m\u001b[1;32m    790\u001b[0m                 \u001b[0mhandle\u001b[0m\u001b[0;34m,\u001b[0m\u001b[0;34m\u001b[0m\u001b[0;34m\u001b[0m\u001b[0m\n\u001b[1;32m    791\u001b[0m                 \u001b[0mioargs\u001b[0m\u001b[0;34m.\u001b[0m\u001b[0mmode\u001b[0m\u001b[0;34m,\u001b[0m\u001b[0;34m\u001b[0m\u001b[0;34m\u001b[0m\u001b[0m\n",
      "\u001b[0;31mFileNotFoundError\u001b[0m: [Errno 2] No such file or directory: '../example_data/csv/statement_irt_result.csv'"
     ]
    }
   ],
   "source": [
    "temp_df = pd.read_csv(\"../example_data/csv/statement_irt_result.csv\", index_col=0)\n",
    "temp_df"
   ]
  },
  {
   "cell_type": "markdown",
   "metadata": {},
   "source": []
  },
  {
   "cell_type": "code",
   "execution_count": 5,
   "metadata": {},
   "outputs": [
    {
     "name": "stderr",
     "output_type": "stream",
     "text": [
      "/tmp/ipykernel_11929/2641468747.py:1: FutureWarning: The default dtype for empty Series will be 'object' instead of 'float64' in a future version. Specify a dtype explicitly to silence this warning.\n",
      "  s = pd.Series(database_schema_dict)\n"
     ]
    },
    {
     "data": {
      "text/plain": [
       "Series([], dtype: float64)"
      ]
     },
     "execution_count": 5,
     "metadata": {},
     "output_type": "execute_result"
    }
   ],
   "source": [
    "s = pd.Series(database_schema_dict)\n",
    "s"
   ]
  },
  {
   "cell_type": "code",
   "execution_count": 6,
   "metadata": {},
   "outputs": [],
   "source": [
    "temp_df = pd.DataFrame()\n",
    "temp_df[\"123\"] = s"
   ]
  },
  {
   "cell_type": "code",
   "execution_count": 7,
   "metadata": {},
   "outputs": [],
   "source": [
    "temp_df =  pd.DataFrame.from_dict(database_schema_dict, orient='columns')"
   ]
  },
  {
   "cell_type": "code",
   "execution_count": 8,
   "metadata": {},
   "outputs": [
    {
     "data": {
      "text/html": [
       "<div>\n",
       "<style scoped>\n",
       "    .dataframe tbody tr th:only-of-type {\n",
       "        vertical-align: middle;\n",
       "    }\n",
       "\n",
       "    .dataframe tbody tr th {\n",
       "        vertical-align: top;\n",
       "    }\n",
       "\n",
       "    .dataframe thead th {\n",
       "        text-align: right;\n",
       "    }\n",
       "</style>\n",
       "<table border=\"1\" class=\"dataframe\">\n",
       "  <thead>\n",
       "    <tr style=\"text-align: right;\">\n",
       "      <th></th>\n",
       "    </tr>\n",
       "  </thead>\n",
       "  <tbody>\n",
       "  </tbody>\n",
       "</table>\n",
       "</div>"
      ],
      "text/plain": [
       "Empty DataFrame\n",
       "Columns: []\n",
       "Index: []"
      ]
     },
     "execution_count": 8,
     "metadata": {},
     "output_type": "execute_result"
    }
   ],
   "source": [
    "temp_df"
   ]
  },
  {
   "cell_type": "code",
   "execution_count": 9,
   "metadata": {},
   "outputs": [],
   "source": [
    "# Create engine:\n",
    "from dotenv import load_dotenv\n",
    "from sqlalchemy import create_engine\n",
    "\n",
    "# Get script path\n",
    "my_path = os.getcwd()\n",
    "\n",
    "# Get settings from .env\n",
    "env_folder = f\"{my_path}/../.env\"\n",
    "load_dotenv(env_folder)  # take environment variables from .env.\n",
    "\n",
    "# Make database connection\n",
    "os.environ[\"DB_HOST\"] = \"localhost\"\n",
    "database_string = f\"postgresql://{os.getenv('DB_USER')}:{os.getenv('DB_PASSWORD')}@{os.getenv('DB_HOST')}:{os.getenv('DB_PORT')}/{os.getenv('DB_NAME')}\"\n",
    "engine = create_engine(database_string)"
   ]
  },
  {
   "cell_type": "code",
   "execution_count": null,
   "metadata": {},
   "outputs": [],
   "source": []
  },
  {
   "cell_type": "code",
   "execution_count": 10,
   "metadata": {},
   "outputs": [
    {
     "ename": "ValueError",
     "evalue": "Table 'database_schema' already exists.",
     "output_type": "error",
     "traceback": [
      "\u001b[0;31m---------------------------------------------------------------------------\u001b[0m",
      "\u001b[0;31mValueError\u001b[0m                                Traceback (most recent call last)",
      "Cell \u001b[0;32mIn [10], line 2\u001b[0m\n\u001b[1;32m      1\u001b[0m \u001b[39mfor\u001b[39;00m dataframe_name \u001b[39min\u001b[39;00m pandases\u001b[39m.\u001b[39mkeys():\n\u001b[0;32m----> 2\u001b[0m     pandases[dataframe_name]\u001b[39m.\u001b[39;49mto_sql(dataframe_name, engine)\n",
      "File \u001b[0;32m~/.local/lib/python3.10/site-packages/pandas/core/generic.py:2986\u001b[0m, in \u001b[0;36mNDFrame.to_sql\u001b[0;34m(self, name, con, schema, if_exists, index, index_label, chunksize, dtype, method)\u001b[0m\n\u001b[1;32m   2829\u001b[0m \u001b[39m\"\"\"\u001b[39;00m\n\u001b[1;32m   2830\u001b[0m \u001b[39mWrite records stored in a DataFrame to a SQL database.\u001b[39;00m\n\u001b[1;32m   2831\u001b[0m \n\u001b[0;32m   (...)\u001b[0m\n\u001b[1;32m   2982\u001b[0m \u001b[39m[(1,), (None,), (2,)]\u001b[39;00m\n\u001b[1;32m   2983\u001b[0m \u001b[39m\"\"\"\u001b[39;00m  \u001b[39m# noqa:E501\u001b[39;00m\n\u001b[1;32m   2984\u001b[0m \u001b[39mfrom\u001b[39;00m \u001b[39mpandas\u001b[39;00m\u001b[39m.\u001b[39;00m\u001b[39mio\u001b[39;00m \u001b[39mimport\u001b[39;00m sql\n\u001b[0;32m-> 2986\u001b[0m \u001b[39mreturn\u001b[39;00m sql\u001b[39m.\u001b[39;49mto_sql(\n\u001b[1;32m   2987\u001b[0m     \u001b[39mself\u001b[39;49m,\n\u001b[1;32m   2988\u001b[0m     name,\n\u001b[1;32m   2989\u001b[0m     con,\n\u001b[1;32m   2990\u001b[0m     schema\u001b[39m=\u001b[39;49mschema,\n\u001b[1;32m   2991\u001b[0m     if_exists\u001b[39m=\u001b[39;49mif_exists,\n\u001b[1;32m   2992\u001b[0m     index\u001b[39m=\u001b[39;49mindex,\n\u001b[1;32m   2993\u001b[0m     index_label\u001b[39m=\u001b[39;49mindex_label,\n\u001b[1;32m   2994\u001b[0m     chunksize\u001b[39m=\u001b[39;49mchunksize,\n\u001b[1;32m   2995\u001b[0m     dtype\u001b[39m=\u001b[39;49mdtype,\n\u001b[1;32m   2996\u001b[0m     method\u001b[39m=\u001b[39;49mmethod,\n\u001b[1;32m   2997\u001b[0m )\n",
      "File \u001b[0;32m~/.local/lib/python3.10/site-packages/pandas/io/sql.py:696\u001b[0m, in \u001b[0;36mto_sql\u001b[0;34m(frame, name, con, schema, if_exists, index, index_label, chunksize, dtype, method, engine, **engine_kwargs)\u001b[0m\n\u001b[1;32m    691\u001b[0m \u001b[39melif\u001b[39;00m \u001b[39mnot\u001b[39;00m \u001b[39misinstance\u001b[39m(frame, DataFrame):\n\u001b[1;32m    692\u001b[0m     \u001b[39mraise\u001b[39;00m \u001b[39mNotImplementedError\u001b[39;00m(\n\u001b[1;32m    693\u001b[0m         \u001b[39m\"\u001b[39m\u001b[39m'\u001b[39m\u001b[39mframe\u001b[39m\u001b[39m'\u001b[39m\u001b[39m argument should be either a Series or a DataFrame\u001b[39m\u001b[39m\"\u001b[39m\n\u001b[1;32m    694\u001b[0m     )\n\u001b[0;32m--> 696\u001b[0m \u001b[39mreturn\u001b[39;00m pandas_sql\u001b[39m.\u001b[39;49mto_sql(\n\u001b[1;32m    697\u001b[0m     frame,\n\u001b[1;32m    698\u001b[0m     name,\n\u001b[1;32m    699\u001b[0m     if_exists\u001b[39m=\u001b[39;49mif_exists,\n\u001b[1;32m    700\u001b[0m     index\u001b[39m=\u001b[39;49mindex,\n\u001b[1;32m    701\u001b[0m     index_label\u001b[39m=\u001b[39;49mindex_label,\n\u001b[1;32m    702\u001b[0m     schema\u001b[39m=\u001b[39;49mschema,\n\u001b[1;32m    703\u001b[0m     chunksize\u001b[39m=\u001b[39;49mchunksize,\n\u001b[1;32m    704\u001b[0m     dtype\u001b[39m=\u001b[39;49mdtype,\n\u001b[1;32m    705\u001b[0m     method\u001b[39m=\u001b[39;49mmethod,\n\u001b[1;32m    706\u001b[0m     engine\u001b[39m=\u001b[39;49mengine,\n\u001b[1;32m    707\u001b[0m     \u001b[39m*\u001b[39;49m\u001b[39m*\u001b[39;49mengine_kwargs,\n\u001b[1;32m    708\u001b[0m )\n",
      "File \u001b[0;32m~/.local/lib/python3.10/site-packages/pandas/io/sql.py:1729\u001b[0m, in \u001b[0;36mSQLDatabase.to_sql\u001b[0;34m(self, frame, name, if_exists, index, index_label, schema, chunksize, dtype, method, engine, **engine_kwargs)\u001b[0m\n\u001b[1;32m   1679\u001b[0m \u001b[39m\"\"\"\u001b[39;00m\n\u001b[1;32m   1680\u001b[0m \u001b[39mWrite records stored in a DataFrame to a SQL database.\u001b[39;00m\n\u001b[1;32m   1681\u001b[0m \n\u001b[0;32m   (...)\u001b[0m\n\u001b[1;32m   1725\u001b[0m \u001b[39m    Any additional kwargs are passed to the engine.\u001b[39;00m\n\u001b[1;32m   1726\u001b[0m \u001b[39m\"\"\"\u001b[39;00m\n\u001b[1;32m   1727\u001b[0m sql_engine \u001b[39m=\u001b[39m get_engine(engine)\n\u001b[0;32m-> 1729\u001b[0m table \u001b[39m=\u001b[39m \u001b[39mself\u001b[39;49m\u001b[39m.\u001b[39;49mprep_table(\n\u001b[1;32m   1730\u001b[0m     frame\u001b[39m=\u001b[39;49mframe,\n\u001b[1;32m   1731\u001b[0m     name\u001b[39m=\u001b[39;49mname,\n\u001b[1;32m   1732\u001b[0m     if_exists\u001b[39m=\u001b[39;49mif_exists,\n\u001b[1;32m   1733\u001b[0m     index\u001b[39m=\u001b[39;49mindex,\n\u001b[1;32m   1734\u001b[0m     index_label\u001b[39m=\u001b[39;49mindex_label,\n\u001b[1;32m   1735\u001b[0m     schema\u001b[39m=\u001b[39;49mschema,\n\u001b[1;32m   1736\u001b[0m     dtype\u001b[39m=\u001b[39;49mdtype,\n\u001b[1;32m   1737\u001b[0m )\n\u001b[1;32m   1739\u001b[0m total_inserted \u001b[39m=\u001b[39m sql_engine\u001b[39m.\u001b[39minsert_records(\n\u001b[1;32m   1740\u001b[0m     table\u001b[39m=\u001b[39mtable,\n\u001b[1;32m   1741\u001b[0m     con\u001b[39m=\u001b[39m\u001b[39mself\u001b[39m\u001b[39m.\u001b[39mconnectable,\n\u001b[0;32m   (...)\u001b[0m\n\u001b[1;32m   1748\u001b[0m     \u001b[39m*\u001b[39m\u001b[39m*\u001b[39mengine_kwargs,\n\u001b[1;32m   1749\u001b[0m )\n\u001b[1;32m   1751\u001b[0m \u001b[39mself\u001b[39m\u001b[39m.\u001b[39mcheck_case_sensitive(name\u001b[39m=\u001b[39mname, schema\u001b[39m=\u001b[39mschema)\n",
      "File \u001b[0;32m~/.local/lib/python3.10/site-packages/pandas/io/sql.py:1632\u001b[0m, in \u001b[0;36mSQLDatabase.prep_table\u001b[0;34m(self, frame, name, if_exists, index, index_label, schema, dtype)\u001b[0m\n\u001b[1;32m   1620\u001b[0m             \u001b[39mraise\u001b[39;00m \u001b[39mValueError\u001b[39;00m(\u001b[39mf\u001b[39m\u001b[39m\"\u001b[39m\u001b[39mThe type of \u001b[39m\u001b[39m{\u001b[39;00mcol\u001b[39m}\u001b[39;00m\u001b[39m is not a SQLAlchemy type\u001b[39m\u001b[39m\"\u001b[39m)\n\u001b[1;32m   1622\u001b[0m table \u001b[39m=\u001b[39m SQLTable(\n\u001b[1;32m   1623\u001b[0m     name,\n\u001b[1;32m   1624\u001b[0m     \u001b[39mself\u001b[39m,\n\u001b[0;32m   (...)\u001b[0m\n\u001b[1;32m   1630\u001b[0m     dtype\u001b[39m=\u001b[39mdtype,\n\u001b[1;32m   1631\u001b[0m )\n\u001b[0;32m-> 1632\u001b[0m table\u001b[39m.\u001b[39;49mcreate()\n\u001b[1;32m   1633\u001b[0m \u001b[39mreturn\u001b[39;00m table\n",
      "File \u001b[0;32m~/.local/lib/python3.10/site-packages/pandas/io/sql.py:830\u001b[0m, in \u001b[0;36mSQLTable.create\u001b[0;34m(self)\u001b[0m\n\u001b[1;32m    828\u001b[0m \u001b[39mif\u001b[39;00m \u001b[39mself\u001b[39m\u001b[39m.\u001b[39mexists():\n\u001b[1;32m    829\u001b[0m     \u001b[39mif\u001b[39;00m \u001b[39mself\u001b[39m\u001b[39m.\u001b[39mif_exists \u001b[39m==\u001b[39m \u001b[39m\"\u001b[39m\u001b[39mfail\u001b[39m\u001b[39m\"\u001b[39m:\n\u001b[0;32m--> 830\u001b[0m         \u001b[39mraise\u001b[39;00m \u001b[39mValueError\u001b[39;00m(\u001b[39mf\u001b[39m\u001b[39m\"\u001b[39m\u001b[39mTable \u001b[39m\u001b[39m'\u001b[39m\u001b[39m{\u001b[39;00m\u001b[39mself\u001b[39m\u001b[39m.\u001b[39mname\u001b[39m}\u001b[39;00m\u001b[39m'\u001b[39m\u001b[39m already exists.\u001b[39m\u001b[39m\"\u001b[39m)\n\u001b[1;32m    831\u001b[0m     \u001b[39melif\u001b[39;00m \u001b[39mself\u001b[39m\u001b[39m.\u001b[39mif_exists \u001b[39m==\u001b[39m \u001b[39m\"\u001b[39m\u001b[39mreplace\u001b[39m\u001b[39m\"\u001b[39m:\n\u001b[1;32m    832\u001b[0m         \u001b[39mself\u001b[39m\u001b[39m.\u001b[39mpd_sql\u001b[39m.\u001b[39mdrop_table(\u001b[39mself\u001b[39m\u001b[39m.\u001b[39mname, \u001b[39mself\u001b[39m\u001b[39m.\u001b[39mschema)\n",
      "\u001b[0;31mValueError\u001b[0m: Table 'database_schema' already exists."
     ]
    }
   ],
   "source": [
    "for dataframe_name in pandases.keys():\n",
    "    pandases[dataframe_name].to_sql(dataframe_name, engine)"
   ]
  },
  {
   "cell_type": "code",
   "execution_count": null,
   "metadata": {},
   "outputs": [],
   "source": []
  }
 ],
 "metadata": {
  "kernelspec": {
   "display_name": "Python 3.10.8 64-bit",
   "language": "python",
   "name": "python3"
  },
  "language_info": {
   "codemirror_mode": {
    "name": "ipython",
    "version": 3
   },
   "file_extension": ".py",
   "mimetype": "text/x-python",
   "name": "python",
   "nbconvert_exporter": "python",
   "pygments_lexer": "ipython3",
   "version": "3.10.8"
  },
  "orig_nbformat": 4,
  "vscode": {
   "interpreter": {
    "hash": "e7370f93d1d0cde622a1f8e1c04877d8463912d04d973331ad4851f04de6915a"
   }
  }
 },
 "nbformat": 4,
 "nbformat_minor": 2
}
